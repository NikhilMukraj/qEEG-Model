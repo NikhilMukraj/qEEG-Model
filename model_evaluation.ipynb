{
 "cells": [
  {
   "cell_type": "code",
   "execution_count": 2,
   "metadata": {},
   "outputs": [],
   "source": [
    "import pandas as pd\n",
    "import matplotlib.pyplot as plt\n",
    "import seaborn as sns\n",
    "import numpy as np\n",
    "from sklearn.metrics import confusion_matrix, roc_auc_score\n",
    "import os\n",
    "from ast import literal_eval"
   ]
  },
  {
   "cell_type": "code",
   "execution_count": 3,
   "metadata": {},
   "outputs": [],
   "source": [
    "path = f'{os.getcwd()}\\\\best_pred.csv'"
   ]
  },
  {
   "cell_type": "code",
   "execution_count": 4,
   "metadata": {},
   "outputs": [],
   "source": [
    "predY = pd.read_csv(os.getcwd() + '\\\\best_pred.csv', header=None)\n",
    "testY = pd.read_csv(os.getcwd() + '\\\\labels.csv', header=None)"
   ]
  },
  {
   "cell_type": "code",
   "execution_count": 5,
   "metadata": {},
   "outputs": [],
   "source": [
    "disorders = pd.read_csv(os.getcwd() + '\\\\data\\\\raw_ydata.csv')['main.disorder'].to_list()"
   ]
  },
  {
   "cell_type": "code",
   "execution_count": 6,
   "metadata": {},
   "outputs": [
    {
     "data": {
      "text/plain": [
       "{(1.0, 0.0, 0.0, 0.0, 0.0, 0.0, 0.0): 'Addictive disorder',\n",
       " (0.0, 0.0, 0.0, 0.0, 0.0, 0.0, 1.0): 'Trauma and stress related disorder',\n",
       " (0.0, 0.0, 0.0, 1.0, 0.0, 0.0, 0.0): 'Mood disorder',\n",
       " (0.0, 0.0, 1.0, 0.0, 0.0, 0.0, 0.0): 'Healthy control',\n",
       " (0.0, 0.0, 0.0, 0.0, 1.0, 0.0, 0.0): 'Obsessive compulsive disorder',\n",
       " (0.0, 0.0, 0.0, 0.0, 0.0, 1.0, 0.0): 'Schizophrenia',\n",
       " (0.0, 1.0, 0.0, 0.0, 0.0, 0.0, 0.0): 'Anxiety disorder'}"
      ]
     },
     "execution_count": 6,
     "metadata": {},
     "output_type": "execute_result"
    }
   ],
   "source": [
    "labels = {}\n",
    "\n",
    "for n, i in enumerate(np.array(testY)):\n",
    "    if tuple(i) not in labels.keys():\n",
    "        labels[tuple(i)] = disorders[n]\n",
    "\n",
    "labels"
   ]
  },
  {
   "cell_type": "code",
   "execution_count": 7,
   "metadata": {},
   "outputs": [],
   "source": [
    "parsedTestY = [labels[tuple(i)] for i in np.array(testY)]"
   ]
  },
  {
   "cell_type": "code",
   "execution_count": 8,
   "metadata": {},
   "outputs": [],
   "source": [
    "def smooth_label(x):\n",
    "    x[x < x[np.argmax(x)]] = 0\n",
    "    x[x > 0] = 1\n",
    "\n",
    "    return x"
   ]
  },
  {
   "cell_type": "code",
   "execution_count": 9,
   "metadata": {},
   "outputs": [],
   "source": [
    "parsedPredY = [labels[tuple(smooth_label(i))] for i in np.array(predY)]"
   ]
  },
  {
   "cell_type": "code",
   "execution_count": 10,
   "metadata": {},
   "outputs": [],
   "source": [
    "conf_mat = confusion_matrix(parsedTestY, parsedPredY, labels=list(labels.values()))"
   ]
  },
  {
   "cell_type": "code",
   "execution_count": 11,
   "metadata": {},
   "outputs": [
    {
     "data": {
      "text/plain": [
       "array([[182,   1,   2,   0,   0,   0,   1],\n",
       "       [  1, 127,   0,   0,   0,   0,   0],\n",
       "       [  2,   1, 261,   0,   0,   2,   0],\n",
       "       [  0,   0,   4,  89,   0,   2,   0],\n",
       "       [  0,   0,   0,   0,  45,   0,   1],\n",
       "       [  0,   0,   0,   0,   0, 117,   0],\n",
       "       [  1,   0,   1,   0,   0,   1, 104]], dtype=int64)"
      ]
     },
     "execution_count": 11,
     "metadata": {},
     "output_type": "execute_result"
    }
   ],
   "source": [
    "conf_mat"
   ]
  },
  {
   "cell_type": "code",
   "execution_count": 12,
   "metadata": {},
   "outputs": [
    {
     "data": {
      "text/plain": [
       "['Addictive disorder',\n",
       " 'Trauma disorder',\n",
       " 'Mood disorder',\n",
       " 'Healthy control',\n",
       " 'OCD',\n",
       " 'Schizophrenia',\n",
       " 'Anxiety disorder']"
      ]
     },
     "execution_count": 12,
     "metadata": {},
     "output_type": "execute_result"
    }
   ],
   "source": [
    "formatted_labels = list(labels.values())\n",
    "formatted_labels[1] = 'Trauma disorder'\n",
    "formatted_labels[4] = 'OCD'\n",
    "formatted_labels"
   ]
  },
  {
   "cell_type": "code",
   "execution_count": 13,
   "metadata": {},
   "outputs": [],
   "source": [
    "df_cm = pd.DataFrame(conf_mat, index=formatted_labels, columns=formatted_labels)"
   ]
  },
  {
   "cell_type": "code",
   "execution_count": 14,
   "metadata": {},
   "outputs": [
    {
     "data": {
      "image/png": "[encoded data removed]",
      "text/plain": [
       "<Figure size 432x288 with 2 Axes>"
      ]
     },
     "metadata": {
      "needs_background": "light"
     },
     "output_type": "display_data"
    }
   ],
   "source": [
    "sns.heatmap(df_cm, annot=True, fmt='g')\n",
    "plt.ylabel('True Label')\n",
    "plt.xlabel('Predicted Label')\n",
    "# plt.xticks(rotation=45, ha='right')\n",
    "plt.title(\"qEEG Model Confusion Matrix\")\n",
    "plt.savefig(f'{os.getcwd()}\\\\Confusion Matrix.png', bbox_inches='tight')\n",
    "plt.show()"
   ]
  },
  {
   "cell_type": "code",
   "execution_count": 15,
   "metadata": {},
   "outputs": [
    {
     "data": {
      "text/plain": [
       "0.9788359788359788"
      ]
     },
     "execution_count": 15,
     "metadata": {},
     "output_type": "execute_result"
    }
   ],
   "source": [
    "np.mean([i == j for i, j in zip(parsedPredY, parsedTestY)])"
   ]
  },
  {
   "cell_type": "code",
   "execution_count": 16,
   "metadata": {},
   "outputs": [],
   "source": [
    "accs = {}"
   ]
  },
  {
   "cell_type": "code",
   "execution_count": 27,
   "metadata": {},
   "outputs": [
    {
     "data": {
      "text/plain": [
       "{'Addictive disorder': 0.978494623655914,\n",
       " 'Trauma disorder': 0.9921875,\n",
       " 'Mood disorder': 0.981203007518797,\n",
       " 'Healthy control': 0.9368421052631579,\n",
       " 'OCD': 0.9782608695652174,\n",
       " 'Schizophrenia': 1.0,\n",
       " 'Anxiety disorder': 0.9719626168224299}"
      ]
     },
     "execution_count": 27,
     "metadata": {},
     "output_type": "execute_result"
    }
   ],
   "source": [
    "for i in range(len(df_cm.index)):\n",
    "    accs[formatted_labels[i]] = df_cm.iloc[i, i] / np.sum(df_cm.iloc[i, :])\n",
    "\n",
    "accs"
   ]
  },
  {
   "cell_type": "code",
   "execution_count": 18,
   "metadata": {},
   "outputs": [
    {
     "data": {
      "image/png": "[encoded data removed]",
      "text/plain": [
       "<Figure size 432x288 with 1 Axes>"
      ]
     },
     "metadata": {},
     "output_type": "display_data"
    }
   ],
   "source": [
    "plt.style.use('ggplot')\n",
    "plt.bar(accs.keys(), [100 * i for i in accs.values()], color='green')\n",
    "plt.xticks(rotation=45, ha='right')\n",
    "plt.ylim(50,100)\n",
    "plt.ylabel('Accuracy (%)')\n",
    "plt.show()"
   ]
  },
  {
   "cell_type": "code",
   "execution_count": 26,
   "metadata": {},
   "outputs": [
    {
     "data": {
      "text/plain": [
       "array([0.99951832, 0.99974349, 0.99924458, 0.99851064, 1.        ,\n",
       "       0.99986581, 0.99949319])"
      ]
     },
     "execution_count": 26,
     "metadata": {},
     "output_type": "execute_result"
    }
   ],
   "source": [
    "roc_auc_score(testY, predY, average=None)"
   ]
  }
 ],
 "metadata": {
  "kernelspec": {
   "display_name": "Python 3.8.10 64-bit",
   "language": "python",
   "name": "python3"
  },
  "language_info": {
   "codemirror_mode": {
    "name": "ipython",
    "version": 3
   },
   "file_extension": ".py",
   "mimetype": "text/x-python",
   "name": "python",
   "nbconvert_exporter": "python",
   "pygments_lexer": "ipython3",
   "version": "3.8.10"
  },
  "orig_nbformat": 4,
  "vscode": {
   "interpreter": {
    "hash": "e49f74e46b456e49c6fe038b9d452af7a62c4b3c345dd5f08f3508413a9f0789"
   }
  }
 },
 "nbformat": 4,
 "nbformat_minor": 2
}
